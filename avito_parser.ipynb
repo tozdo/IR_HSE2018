{
 "cells": [
  {
   "cell_type": "code",
   "execution_count": 1,
   "metadata": {},
   "outputs": [],
   "source": [
    "import os, re\n",
    "import time\n",
    "import random\n",
    "import requests\n",
    "from bs4 import BeautifulSoup"
   ]
  },
  {
   "cell_type": "code",
   "execution_count": 2,
   "metadata": {},
   "outputs": [],
   "source": [
    "def get_soup(url):\n",
    "    req = requests.get(url, headers={'user-agent':'Mozilla/5.0 (Windows NT 6.1; Win64; x64)'})\n",
    "    assert req.status_code == 200, 'request failed'\n",
    "    html = req.text\n",
    "    soup = BeautifulSoup(html, 'lxml')\n",
    "    return soup"
   ]
  },
  {
   "cell_type": "code",
   "execution_count": 3,
   "metadata": {},
   "outputs": [],
   "source": [
    "def get_urls():\n",
    "    urls = []\n",
    "    url_eda = 'https://www.avito.ru/moskva/produkty_pitaniya?p='\n",
    "    for i in range(101):\n",
    "        h3s = get_soup(url_eda + str(i)).find_all('h3')\n",
    "        for i in h3s:\n",
    "            urls.append(i.find('a')['href'])\n",
    "        time.sleep(random.randint(1, 4))\n",
    "    return urls"
   ]
  },
  {
   "cell_type": "code",
   "execution_count": 4,
   "metadata": {},
   "outputs": [
    {
     "data": {
      "text/plain": [
       "['/moskva/produkty_pitaniya/kartofel_luk_kapusta_s_dostavkoy_opt_i_roznitsa_1642470980',\n",
       " '/moskva/produkty_pitaniya/kedrovyy_oreh_dalnevostochnyy_214161856',\n",
       " '/moskva/produkty_pitaniya/krasnaya_ikra_1314294440',\n",
       " '/moskva/produkty_pitaniya/svechi_s_propolisom_ot_prostatita_i_gemorroya_1685138312',\n",
       " '/moskva/produkty_pitaniya/ikra_krasnaya_1583669150',\n",
       " '/moskva/produkty_pitaniya/assorti_marinovannoe_433887544',\n",
       " '/moskva/produkty_pitaniya/krasnaya_ikra_1063004826',\n",
       " '/moskva/produkty_pitaniya/detskoe_pyure_agusha_fruktovoe_1368050928',\n",
       " '/moskva/produkty_pitaniya/krasnaya_ikra_1509969940',\n",
       " '/moskva/produkty_pitaniya/zheludi_bez_shlyapok_dlya_tvorchestva_1317780568',\n",
       " '/moskva/produkty_pitaniya/detskoe_ovoschnoe_pyure_1113340422',\n",
       " '/moskva/produkty_pitaniya/chesnok_1596252933',\n",
       " '/moskva/produkty_pitaniya/podarochnyy_podarok_1433170629']"
      ]
     },
     "execution_count": 4,
     "metadata": {},
     "output_type": "execute_result"
    }
   ],
   "source": [
    "all_urls = get_urls()\n",
    "all_urls[:13]"
   ]
  },
  {
   "cell_type": "markdown",
   "metadata": {},
   "source": [
    "У нас есть ссылки на все объявления. Сколько их?"
   ]
  },
  {
   "cell_type": "code",
   "execution_count": 6,
   "metadata": {},
   "outputs": [
    {
     "data": {
      "text/plain": [
       "5394"
      ]
     },
     "execution_count": 6,
     "metadata": {},
     "output_type": "execute_result"
    }
   ],
   "source": [
    "len(all_urls)"
   ]
  },
  {
   "cell_type": "code",
   "execution_count": 9,
   "metadata": {},
   "outputs": [],
   "source": [
    "def make_corpora(urls):\n",
    "    if not os.path.exists('./avito_food'):\n",
    "        os.makedirs('./avito_food')\n",
    "    for i in urls:\n",
    "        time.sleep(random.randint(1, 5))\n",
    "        head_soup = get_soup('http://www.avito.ru' + i).find('div', attrs={'class':'sticky-header-prop sticky-header-title'})\n",
    "        if head_soup == None:\n",
    "            head = 'нет заголовка'\n",
    "        else:\n",
    "            head = head_soup.text\n",
    "        date_soup = get_soup('http://www.avito.ru' + i).find('div', attrs={'class':'title-info-metadata-item'})\n",
    "        if date_soup == None:\n",
    "            date =  'нет информации о дате'\n",
    "        else:\n",
    "            date = date_soup.text\n",
    "        text_soup = get_soup('http://www.avito.ru' + i).find('div', attrs={'class':'item-description-text'})\n",
    "        if text_soup == None:\n",
    "            text = 'нет текста объявления'\n",
    "        else:\n",
    "            text = text_soup.text\n",
    "        price_soup = get_soup('http://www.avito.ru' + i).find('span', attrs={'itemprop':'price'})\n",
    "        if price_soup == None:\n",
    "            price = 'нет информации о цене'\n",
    "        else:\n",
    "            price = price_soup.text\n",
    "        full_info = head + '\\n' + date + '\\n' + text + '\\n' + price\n",
    "        with open ('./avito_food/' + i.replace(r'/', '=') + '.txt', 'w', encoding = 'utf-8') as f:\n",
    "            f.write(full_info)\n",
    "    return"
   ]
  },
  {
   "cell_type": "code",
   "execution_count": 10,
   "metadata": {},
   "outputs": [],
   "source": [
    "make_corpora(all_urls)"
   ]
  }
 ],
 "metadata": {
  "kernelspec": {
   "display_name": "Python 3",
   "language": "python",
   "name": "python3"
  },
  "language_info": {
   "codemirror_mode": {
    "name": "ipython",
    "version": 3
   },
   "file_extension": ".py",
   "mimetype": "text/x-python",
   "name": "python",
   "nbconvert_exporter": "python",
   "pygments_lexer": "ipython3",
   "version": "3.6.5"
  }
 },
 "nbformat": 4,
 "nbformat_minor": 2
}
