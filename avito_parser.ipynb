{
 "cells": [
  {
   "cell_type": "code",
   "execution_count": 87,
   "metadata": {},
   "outputs": [],
   "source": [
    "import os, re\n",
    "import time\n",
    "import random\n",
    "import requests\n",
    "from bs4 import BeautifulSoup"
   ]
  },
  {
   "cell_type": "code",
   "execution_count": 110,
   "metadata": {},
   "outputs": [],
   "source": [
    "def get_soup(url):\n",
    "    req = requests.get(url, headers={'user-agent':'Mozilla/5.0 (Windows NT 6.1; Win64; x64)'})\n",
    "    assert req.status_code == 200, 'request failed'\n",
    "    \n",
    "    html = req.text\n",
    "    soup = BeautifulSoup(html, 'lxml')\n",
    "    return soup"
   ]
  },
  {
   "cell_type": "code",
   "execution_count": 90,
   "metadata": {},
   "outputs": [],
   "source": [
    "def get_urls():\n",
    "    urls = []\n",
    "    url_eda = 'https://www.avito.ru/moskva/produkty_pitaniya?p='\n",
    "    for i in range(101):\n",
    "        h3s = get_soup(url_eda + str(i)).find_all('h3')\n",
    "        for i in h3s:\n",
    "            urls.append(i.find('a')['href'])\n",
    "        time.sleep(random.randint(1, 4))\n",
    "    return urls"
   ]
  },
  {
   "cell_type": "code",
   "execution_count": 91,
   "metadata": {},
   "outputs": [
    {
     "data": {
      "text/plain": [
       "['/moskva/produkty_pitaniya/krasnaya_ikra_1509969940',\n",
       " '/moskva/produkty_pitaniya/vypechka_svezhaya_1272489256',\n",
       " '/moskva/produkty_pitaniya/krasnaya_ikra_1314294440',\n",
       " '/moskva/produkty_pitaniya/ikra_chernaya_1199683104',\n",
       " '/moskva/produkty_pitaniya/moloko_agusha_1_litr_1324472180',\n",
       " '/moskva/produkty_pitaniya/otrubi_ogo_1592646432',\n",
       " '/moskva/produkty_pitaniya/gornye_tselebnye_travy_dagestana_v_puchkah_1233592441',\n",
       " '/moskva/produkty_pitaniya/detskoe_pyure_1158376403',\n",
       " '/moskva/produkty_pitaniya/prodayu_derevenskie_kurinye_yaitsa_1116193291',\n",
       " '/moskva/produkty_pitaniya/maslo_repeynoe_mirrolla_1529014266',\n",
       " '/moskva/produkty_pitaniya/sbalansirovannoe_pitanie_hudeem_bez_diet_1504066270',\n",
       " '/moskva/produkty_pitaniya/muka_ot_proizvoditelya_vysshego_i_pervogo_sorta_1664734631',\n",
       " '/moskva/produkty_pitaniya/ikra_krasnaya_1432462171']"
      ]
     },
     "execution_count": 91,
     "metadata": {},
     "output_type": "execute_result"
    }
   ],
   "source": [
    "all_urls = get_urls()\n",
    "all_urls[:13]"
   ]
  },
  {
   "cell_type": "markdown",
   "metadata": {},
   "source": [
    "У нас есть ссылки на все объявления. Сколько их?"
   ]
  },
  {
   "cell_type": "code",
   "execution_count": 92,
   "metadata": {},
   "outputs": [
    {
     "data": {
      "text/plain": [
       "5392"
      ]
     },
     "execution_count": 92,
     "metadata": {},
     "output_type": "execute_result"
    }
   ],
   "source": [
    "len(all_urls)"
   ]
  },
  {
   "cell_type": "code",
   "execution_count": 104,
   "metadata": {},
   "outputs": [],
   "source": [
    "def make_corpora(urls):\n",
    "    if not os.path.exists('./avito_food'):\n",
    "        os.makedirs('./avito_food')\n",
    "    for i in urls:\n",
    "        head_soup = get_soup('http://www.avito.ru' + i).find('div', attrs={'class':'sticky-header-prop sticky-header-title'})\n",
    "        if head_soup == None:\n",
    "            head = 'нет заголовка'\n",
    "        else:\n",
    "            head = head_soup.text\n",
    "        date_soup = get_soup('http://www.avito.ru' + i).find('div', attrs={'class':'title-info-metadata-item'})\n",
    "        if date_soup == None:\n",
    "            date =  'нет информации о дате'\n",
    "        else:\n",
    "            date = date_soup.text\n",
    "        text_soup = get_soup('http://www.avito.ru' + i).find('div', attrs={'class':'item-description-text'})\n",
    "        if text_soup == None:\n",
    "            text = 'нет текста объявления'\n",
    "        else:\n",
    "            text = text_soup.text\n",
    "        price_soup = get_soup('http://www.avito.ru' + i).find('span', attrs={'itemprop':'price'})\n",
    "        if price_soup == None:\n",
    "            price = 'нет информации о цене'\n",
    "        else:\n",
    "            price = price_soup.text\n",
    "        full_info = head + '\\n' + date + '\\n' + text + '\\n' + price\n",
    "        time.sleep(random.randint(1, 3))\n",
    "        with open ('./avito_food/' + i.replace(r'/', '=') + '.txt', 'w', encoding = 'utf-8') as f:\n",
    "            f.write(full_info)\n",
    "    return"
   ]
  },
  {
   "cell_type": "code",
   "execution_count": 105,
   "metadata": {},
   "outputs": [
    {
     "ename": "KeyboardInterrupt",
     "evalue": "",
     "output_type": "error",
     "traceback": [
      "\u001b[1;31m---------------------------------------------------------------------------\u001b[0m",
      "\u001b[1;31mKeyboardInterrupt\u001b[0m                         Traceback (most recent call last)",
      "\u001b[1;32m<ipython-input-105-4536a18a514b>\u001b[0m in \u001b[0;36m<module>\u001b[1;34m()\u001b[0m\n\u001b[1;32m----> 1\u001b[1;33m \u001b[0mmake_corpora\u001b[0m\u001b[1;33m(\u001b[0m\u001b[0mall_urls\u001b[0m\u001b[1;33m)\u001b[0m\u001b[1;33m\u001b[0m\u001b[0m\n\u001b[0m",
      "\u001b[1;32m<ipython-input-104-e7369e699c62>\u001b[0m in \u001b[0;36mmake_corpora\u001b[1;34m(urls)\u001b[0m\n\u001b[0;32m     24\u001b[0m             \u001b[0mprice\u001b[0m \u001b[1;33m=\u001b[0m \u001b[0mprice_soup\u001b[0m\u001b[1;33m.\u001b[0m\u001b[0mtext\u001b[0m\u001b[1;33m\u001b[0m\u001b[0m\n\u001b[0;32m     25\u001b[0m         \u001b[0mfull_info\u001b[0m \u001b[1;33m=\u001b[0m \u001b[0mhead\u001b[0m \u001b[1;33m+\u001b[0m \u001b[1;34m'\\n'\u001b[0m \u001b[1;33m+\u001b[0m \u001b[0mdate\u001b[0m \u001b[1;33m+\u001b[0m \u001b[1;34m'\\n'\u001b[0m \u001b[1;33m+\u001b[0m \u001b[0mtext\u001b[0m \u001b[1;33m+\u001b[0m \u001b[1;34m'\\n'\u001b[0m \u001b[1;33m+\u001b[0m \u001b[0mprice\u001b[0m\u001b[1;33m\u001b[0m\u001b[0m\n\u001b[1;32m---> 26\u001b[1;33m         \u001b[0mtime\u001b[0m\u001b[1;33m.\u001b[0m\u001b[0msleep\u001b[0m\u001b[1;33m(\u001b[0m\u001b[0mrandom\u001b[0m\u001b[1;33m.\u001b[0m\u001b[0mrandint\u001b[0m\u001b[1;33m(\u001b[0m\u001b[1;36m1\u001b[0m\u001b[1;33m,\u001b[0m \u001b[1;36m3\u001b[0m\u001b[1;33m)\u001b[0m\u001b[1;33m)\u001b[0m\u001b[1;33m\u001b[0m\u001b[0m\n\u001b[0m\u001b[0;32m     27\u001b[0m         \u001b[1;32mwith\u001b[0m \u001b[0mopen\u001b[0m \u001b[1;33m(\u001b[0m\u001b[1;34m'./avito_food/'\u001b[0m \u001b[1;33m+\u001b[0m \u001b[0mi\u001b[0m\u001b[1;33m.\u001b[0m\u001b[0mreplace\u001b[0m\u001b[1;33m(\u001b[0m\u001b[1;34mr'/'\u001b[0m\u001b[1;33m,\u001b[0m \u001b[1;34m'='\u001b[0m\u001b[1;33m)\u001b[0m \u001b[1;33m+\u001b[0m \u001b[1;34m'.txt'\u001b[0m\u001b[1;33m,\u001b[0m \u001b[1;34m'w'\u001b[0m\u001b[1;33m,\u001b[0m \u001b[0mencoding\u001b[0m \u001b[1;33m=\u001b[0m \u001b[1;34m'utf-8'\u001b[0m\u001b[1;33m)\u001b[0m \u001b[1;32mas\u001b[0m \u001b[0mf\u001b[0m\u001b[1;33m:\u001b[0m\u001b[1;33m\u001b[0m\u001b[0m\n\u001b[0;32m     28\u001b[0m             \u001b[0mf\u001b[0m\u001b[1;33m.\u001b[0m\u001b[0mwrite\u001b[0m\u001b[1;33m(\u001b[0m\u001b[0mfull_info\u001b[0m\u001b[1;33m)\u001b[0m\u001b[1;33m\u001b[0m\u001b[0m\n",
      "\u001b[1;31mKeyboardInterrupt\u001b[0m: "
     ]
    }
   ],
   "source": [
    "make_corpora(all_urls)"
   ]
  },
  {
   "cell_type": "code",
   "execution_count": 112,
   "metadata": {},
   "outputs": [
    {
     "name": "stdout",
     "output_type": "stream",
     "text": [
      "<!DOCTYPE html>\n",
      "<html> <head>\n",
      "<script>\n",
      " window.dataLayer = [{\"userAuth\":0,\"pageType\":\"Other\"}];\n",
      " (function(w, d, s, l, i) {\n",
      " w[l] = w[l] || [];\n",
      " w[l].push({\n",
      " 'gtm.start': new Date().getTime(),\n",
      " event: 'gtm.js'\n",
      " });\n",
      " var f = d.getElementsByTagName(s)[0],\n",
      " j = d.createElement(s),\n",
      " dl = l != 'dataLayer' ? '&l=' + l : '';\n",
      " j.async = true;\n",
      " j.src = '//www.googletagmanager.com/gtm.js?id=' + i + dl;\n",
      " f.parentNode.insertBefore(j, f);\n",
      " })(window, document, 'script', 'dataLayer', 'GTM-KP9Q9H');\n",
      " </script>\n",
      "<meta charset=\"utf-8\"/> <title>Доступ временно заблокирован</title>\n",
      "<link href=\"https://www.avito.st/s/cc/styles/4e1c86e325984e6a26a9.css\" rel=\"stylesheet\"/>\n",
      "<link href=\"https://www.avito.st/s/cc/styles/edcad1d1d9c688e17ee5.css\" rel=\"stylesheet\"/>\n",
      "</head> <body>\n",
      "<noscript> <iframe height=\"0\" src=\"//www.googletagmanager.com/ns.html?id=GTM-KP9Q9H\" style=\"display:none;visibility:hidden\" width=\"0\"></iframe> </noscript>\n",
      "<div class=\"layout\">\n",
      "<div class=\"firewall-container\"> <img alt=\"Доступ временно ограничен\" class=\"firewall-icon\" src=\"/s/avito/components/firewall/firewall-blocked-filled.svg\"/> <h2 class=\"firewall-title\">Доступ с Вашего IP временно ограничен</h2> <p class=\"text\">\n",
      " Мы обнаружили, что запросы, поступающие с вашего IP-адреса, похожи на автоматические.\n",
      " Мы были вынуждены временно заблокировать доступ к сайту.\n",
      " </p> <p class=\"text\">\n",
      " Чтобы продолжить пользоваться сайтом, пожалуйста, введите символы с картинки в поле ввода и нажмите «Отправить».\n",
      " </p> <form action=\"\" autocomplete=\"off\" class=\"form js-submit js-firewall-form\" method=\"post\" name=\"firewall\">\n",
      "<fieldset class=\"js-form-captcha form-fieldset form-captcha form-captcha-inline \">\n",
      "<label class=\"form-fieldset__label\" for=\"captcha-field\">Текст с картинки</label>\n",
      "<div class=\"form-fieldset__context\"> <input autocapitalize=\"off\" autocomplete=\"off\" autocorrect=\"off\" class=\"form-captcha-input js-captcha-input\" id=\"captcha-field\" name=\"captcha\" type=\"text\" value=\"\"/><img class=\"form-captcha-image js-form-captcha-image\" src=\"/captcha?1540262521\"/><div class=\"form-captcha-refresh js-form-captcha-refresh\"></div> </div> <span class=\"form-fieldset__error\"></span> <span class=\"form-fieldset__error form-fieldset__error_js js-error\"></span> </fieldset>\n",
      "<div class=\"form-action\"> <button class=\"button button-origin\" name=\"submit\" type=\"submit\">Отправить</button> </div> </form> <p class=\"text firewall-p-bold\">\n",
      " Если у вас возникли проблемы или вы хотите задать вопрос службе поддержки, пожалуйста,\n",
      " <a href=\"https://support.avito.ru/sections/200009688\">напишите нам</a>.\n",
      " </p> </div>\n",
      "</div>\n",
      "<script src=\"https://www.avito.st/s/cc/chunks/48f517643bc96835195a.js\"></script>\n",
      "<script src=\"https://www.avito.st/s/cc/bundles/e7d678aae6762e749e7b.js\"></script>\n",
      "<script src=\"https://www.avito.st/s/cc/chunks/b68417a22a125fd4f29a.js\"></script>\n",
      "<script src=\"https://www.avito.st/s/cc/bundles/ae32b7c7edd83e6ead9f.js\"></script>\n",
      "</body> </html>\n",
      "\n",
      "None\n"
     ]
    }
   ],
   "source": [
    "urlomg = 'https://www.avito.ru/moskva/produkty_pitaniya/muka_ot_proizvoditelya_vysshego_i_pervogo_sorta_1664734631'\n",
    "print(get_soup(urlomg))\n",
    "print(get_soup(urlomg).find('div', attrs={'class':'sticky-header-prop sticky-header-title'}))"
   ]
  },
  {
   "cell_type": "code",
   "execution_count": null,
   "metadata": {},
   "outputs": [],
   "source": []
  }
 ],
 "metadata": {
  "kernelspec": {
   "display_name": "Python 3",
   "language": "python",
   "name": "python3"
  },
  "language_info": {
   "codemirror_mode": {
    "name": "ipython",
    "version": 3
   },
   "file_extension": ".py",
   "mimetype": "text/x-python",
   "name": "python",
   "nbconvert_exporter": "python",
   "pygments_lexer": "ipython3",
   "version": "3.6.5"
  }
 },
 "nbformat": 4,
 "nbformat_minor": 2
}
